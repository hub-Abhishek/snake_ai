{
 "cells": [
  {
   "cell_type": "code",
   "execution_count": 1,
   "metadata": {},
   "outputs": [],
   "source": [
    "from player import *"
   ]
  },
  {
   "cell_type": "code",
   "execution_count": 18,
   "metadata": {},
   "outputs": [
    {
     "data": {
      "text/plain": [
       "([0, 1, 2, 3, 4, 5, 6], [-3, -2, -1, 0, 1, 2, 3])"
      ]
     },
     "execution_count": 18,
     "metadata": {},
     "output_type": "execute_result"
    }
   ],
   "source": [
    "x = 7\n",
    "a = [z for z in range(x)]\n",
    "# a = a - a[]\n",
    "a, [z-a[x//2] for z in a]"
   ]
  },
  {
   "cell_type": "code",
   "execution_count": null,
   "metadata": {},
   "outputs": [],
   "source": []
  },
  {
   "cell_type": "code",
   "execution_count": 12,
   "metadata": {},
   "outputs": [
    {
     "data": {
      "text/plain": [
       "tensor([[ 0.0000,  0.6074, -0.0000, -0.0000,  0.0000,  0.0000, -0.0000,  0.0000,\n",
       "          0.0000,  0.0000, -0.0000,  0.0000],\n",
       "        [ 0.0000, -0.0000, -0.8116,  0.0000, -0.0000, -0.0000,  0.0000, -0.0000,\n",
       "          0.0000, -0.0000, -0.0000,  0.0000],\n",
       "        [-0.0000, -0.0472, -0.4051, -0.0000,  0.0000,  0.0000,  0.0000, -0.0000,\n",
       "          0.0000, -0.0000, -0.0000, -0.0000],\n",
       "        [-0.0478, -0.0000,  0.0000, -0.0000, -0.0000,  0.0000,  0.0000, -0.0000,\n",
       "         -0.1810, -1.1076,  0.0000,  0.0000],\n",
       "        [-0.0000, -0.0000, -0.0000, -0.0000, -0.6193,  0.0000, -0.0000, -0.0000,\n",
       "         -0.7743, -1.1900, -0.0000, -0.0000],\n",
       "        [-0.0000,  0.0000, -0.0000,  0.0000,  0.5668,  0.0000,  0.0000,  0.0000,\n",
       "         -0.0000,  0.0000, -0.0000, -0.2586],\n",
       "        [ 0.0000, -0.0000, -0.0000, -0.0000, -0.0000, -0.0000, -0.1440,  0.3749,\n",
       "         -0.0000,  0.6729, -0.0000,  0.0000],\n",
       "        [ 0.6295, -0.0000, -0.4272,  0.0000,  0.0000,  0.7990, -0.0000, -0.0000,\n",
       "          0.2842, -0.0000,  0.0000,  0.0000],\n",
       "        [ 0.0000,  0.0000,  0.0000, -0.0758,  0.0000,  0.0000,  0.0000,  0.0000,\n",
       "         -0.0000, -0.5345,  0.0000, -0.7761],\n",
       "        [ 0.0000, -0.0000,  0.4311, -1.0365, -0.0000, -0.0000,  0.0000, -0.0000,\n",
       "          0.0000, -0.3589, -0.0000, -0.5038]])"
      ]
     },
     "execution_count": 12,
     "metadata": {},
     "output_type": "execute_result"
    }
   ],
   "source": [
    "((torch.rand(10, 12)<0.2).long() * torch.empty(10, 12).normal_(mean=0,std=1) * 0.7)"
   ]
  },
  {
   "cell_type": "code",
   "execution_count": null,
   "metadata": {},
   "outputs": [],
   "source": []
  },
  {
   "cell_type": "code",
   "execution_count": 2,
   "metadata": {},
   "outputs": [
    {
     "ename": "NameError",
     "evalue": "name 'board_size' is not defined",
     "output_type": "error",
     "traceback": [
      "\u001b[1;31m---------------------------------------------------------------------------\u001b[0m",
      "\u001b[1;31mNameError\u001b[0m                                 Traceback (most recent call last)",
      "\u001b[1;32m<ipython-input-2-b85c062e23c8>\u001b[0m in \u001b[0;36m<module>\u001b[1;34m\u001b[0m\n\u001b[0;32m     20\u001b[0m \u001b[1;33m\u001b[0m\u001b[0m\n\u001b[0;32m     21\u001b[0m \u001b[1;31m# player.one_gen(board_size, snake_count, food_count, set_seed)\u001b[0m\u001b[1;33m\u001b[0m\u001b[1;33m\u001b[0m\u001b[1;33m\u001b[0m\u001b[0m\n\u001b[1;32m---> 22\u001b[1;33m \u001b[0mplayer\u001b[0m\u001b[1;33m.\u001b[0m\u001b[0mtrain_for_n_gen\u001b[0m\u001b[1;33m(\u001b[0m\u001b[1;33m)\u001b[0m\u001b[1;33m\u001b[0m\u001b[1;33m\u001b[0m\u001b[0m\n\u001b[0m",
      "\u001b[1;32mc:\\Users\\abhis\\Downloads\\New folder\\project\\Snake AI\\player.py\u001b[0m in \u001b[0;36mtrain_for_n_gen\u001b[1;34m(self)\u001b[0m\n\u001b[0;32m    159\u001b[0m         \u001b[0mnum_gen\u001b[0m \u001b[1;33m=\u001b[0m \u001b[0mself\u001b[0m\u001b[1;33m.\u001b[0m\u001b[0mnum_gen\u001b[0m\u001b[1;33m\u001b[0m\u001b[1;33m\u001b[0m\u001b[0m\n\u001b[0;32m    160\u001b[0m         \u001b[1;32mfor\u001b[0m \u001b[0mgen\u001b[0m \u001b[1;32min\u001b[0m \u001b[0mrange\u001b[0m\u001b[1;33m(\u001b[0m\u001b[0mnum_gen\u001b[0m\u001b[1;33m)\u001b[0m\u001b[1;33m:\u001b[0m\u001b[1;33m\u001b[0m\u001b[1;33m\u001b[0m\u001b[0m\n\u001b[1;32m--> 161\u001b[1;33m             \u001b[0mmax_moves\u001b[0m\u001b[1;33m,\u001b[0m \u001b[0mmax_scores\u001b[0m\u001b[1;33m,\u001b[0m \u001b[0mavg_scores\u001b[0m \u001b[1;33m=\u001b[0m \u001b[0mself\u001b[0m\u001b[1;33m.\u001b[0m\u001b[0mone_gen\u001b[0m\u001b[1;33m(\u001b[0m\u001b[0mboard_size\u001b[0m\u001b[1;33m,\u001b[0m \u001b[0msnake_count\u001b[0m\u001b[1;33m,\u001b[0m \u001b[0mfood_count\u001b[0m\u001b[1;33m,\u001b[0m \u001b[0mset_seed\u001b[0m\u001b[1;33m,\u001b[0m \u001b[0mgen\u001b[0m\u001b[1;33m)\u001b[0m\u001b[1;33m\u001b[0m\u001b[1;33m\u001b[0m\u001b[0m\n\u001b[0m\u001b[0;32m    162\u001b[0m             \u001b[1;31m# print(max_scores[np.argsort(max_scores)][::-1][:math.ceil(len(max_scores)/4)])\u001b[0m\u001b[1;33m\u001b[0m\u001b[1;33m\u001b[0m\u001b[1;33m\u001b[0m\u001b[0m\n\u001b[0;32m    163\u001b[0m             \u001b[0mtop_25\u001b[0m \u001b[1;33m=\u001b[0m \u001b[0mnp\u001b[0m\u001b[1;33m.\u001b[0m\u001b[0margsort\u001b[0m\u001b[1;33m(\u001b[0m\u001b[0mmax_scores\u001b[0m\u001b[1;33m)\u001b[0m\u001b[1;33m[\u001b[0m\u001b[1;33m:\u001b[0m\u001b[1;33m:\u001b[0m\u001b[1;33m-\u001b[0m\u001b[1;36m1\u001b[0m\u001b[1;33m]\u001b[0m\u001b[1;33m[\u001b[0m\u001b[1;33m:\u001b[0m\u001b[0mmath\u001b[0m\u001b[1;33m.\u001b[0m\u001b[0mceil\u001b[0m\u001b[1;33m(\u001b[0m\u001b[0mlen\u001b[0m\u001b[1;33m(\u001b[0m\u001b[0mmax_scores\u001b[0m\u001b[1;33m)\u001b[0m\u001b[1;33m/\u001b[0m\u001b[1;36m4\u001b[0m\u001b[1;33m)\u001b[0m\u001b[1;33m]\u001b[0m\u001b[1;33m\u001b[0m\u001b[1;33m\u001b[0m\u001b[0m\n",
      "\u001b[1;31mNameError\u001b[0m: name 'board_size' is not defined"
     ]
    }
   ],
   "source": [
    "\n",
    "pop_size = 5\n",
    "num_trials = 5\n",
    "move_limit = 5\n",
    "num_gen = 5\n",
    "\n",
    "mutation_rate = 0.1\n",
    "mutation_change = 0.1\n",
    "input_window_size = 8\n",
    "input_size = input_window_size + 4 # input window size + food location\n",
    "\n",
    "num_hidden_layers = 4\n",
    "hidden_layers_size = [20] *  num_hidden_layers\n",
    "output_size = 4\n",
    "\n",
    "board_size, snake_count, food_count, set_seed = 10, 1, 1, False\n",
    "# game = Game(board_size, snake_count, food_count)\n",
    "\n",
    "player = geneticPlayer(pop_size, num_trials, mutation_rate, mutation_change, input_window_size, input_size,\n",
    "                num_hidden_layers, hidden_layers_size, output_size, num_gen, move_limit)\n",
    "\n",
    "# player.one_gen(board_size, snake_count, food_count, set_seed)\n",
    "player.train_for_n_gen()"
   ]
  },
  {
   "cell_type": "code",
   "execution_count": null,
   "metadata": {},
   "outputs": [],
   "source": []
  },
  {
   "cell_type": "code",
   "execution_count": null,
   "metadata": {},
   "outputs": [],
   "source": []
  },
  {
   "cell_type": "code",
   "execution_count": null,
   "metadata": {},
   "outputs": [],
   "source": [
    "\n",
    "for move in ['down', 'left', 'left', 'left', 'left', 'left', 'up', \n",
    "'up', 'up', 'right', 'right', 'right', 'right', 'right', 'down', 'down', \n",
    "'left', 'left', 'left', 'left', 'up', 'up', 'up', 'right', 'right', 'right', \n",
    "'right', 'right', 'down', 'down', 'down', 'down', 'down', 'left', 'left', 'left',\n",
    "'up', 'up', 'up', 'up', 'up', 'left', 'left', 'left', 'left', 'down', 'down', 'down', \n",
    "'down', 'down', 'down', 'right', 'right', 'right', 'right', 'down', 'left', 'left', 'left', \n",
    "'left', 'left', 'up', 'up', 'up', 'up', 'up', 'right', 'right', 'right', 'right', 'right', 'right', \n",
    "'right', 'right', 'right', 'down', 'down', 'down', 'down', 'down', 'left', 'left', 'left', 'left']:\n",
    "    game.move(move)"
   ]
  },
  {
   "cell_type": "code",
   "execution_count": null,
   "metadata": {},
   "outputs": [],
   "source": [
    "\n",
    "for move in ['down', 'left', 'left', 'left', 'left', 'left', 'up', \n",
    "'up', 'up', 'right', 'right', 'right', 'right', 'right', 'down', 'down', \n",
    "'left', 'left', 'left', 'left', 'up', 'up', 'up', 'right', 'right', 'right', \n",
    "'right', 'right', 'down', 'down', 'down', 'down', 'down', 'left', 'left', 'left',\n",
    "'up', 'up', 'up', 'up', 'up', 'left', 'left', 'left', 'left', 'down', 'down', 'down', \n",
    "'down', 'down', 'down', 'right', 'right', 'right', 'right', 'down', 'left', 'left', 'left', \n",
    "'left', 'left', 'up', 'up', 'up', 'up', 'up', 'right', 'right', 'right', 'right', 'right', 'right', \n",
    "'right', 'right', 'right', 'down', 'down', 'down', 'down', 'down', 'left', 'left', 'left', 'left']:\n",
    "    game.move(move)"
   ]
  }
 ],
 "metadata": {
  "kernelspec": {
   "display_name": "Python 3.7.4 64-bit",
   "language": "python",
   "name": "python3"
  },
  "language_info": {
   "codemirror_mode": {
    "name": "ipython",
    "version": 3
   },
   "file_extension": ".py",
   "mimetype": "text/x-python",
   "name": "python",
   "nbconvert_exporter": "python",
   "pygments_lexer": "ipython3",
   "version": "3.7.4"
  },
  "orig_nbformat": 4,
  "vscode": {
   "interpreter": {
    "hash": "e92b1e64e1a18e37adf6cde0fcba1eef4a91520bfe33ee18938e1ee724c61147"
   }
  }
 },
 "nbformat": 4,
 "nbformat_minor": 2
}
