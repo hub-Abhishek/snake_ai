{
 "cells": [
  {
   "cell_type": "code",
   "execution_count": 60,
   "metadata": {},
   "outputs": [
    {
     "name": "stdout",
     "output_type": "stream",
     "text": [
      "The autoreload extension is already loaded. To reload it, use:\n",
      "  %reload_ext autoreload\n"
     ]
    }
   ],
   "source": [
    "%load_ext autoreload\n",
    "%autoreload 2"
   ]
  },
  {
   "cell_type": "code",
   "execution_count": 61,
   "metadata": {},
   "outputs": [],
   "source": [
    "import numpy as np\n",
    "import math\n",
    "import copy\n",
    "import torch\n",
    "import torch.nn as nn\n",
    "import torch.nn.functional as f\n",
    "\n",
    "from game import *\n",
    "from player import *"
   ]
  },
  {
   "cell_type": "code",
   "execution_count": 62,
   "metadata": {},
   "outputs": [],
   "source": [
    "PATH = 'D:/New folder/project/Snake AI'"
   ]
  },
  {
   "cell_type": "code",
   "execution_count": 63,
   "metadata": {},
   "outputs": [],
   "source": [
    "def generate_individual_brain(input_size, num_hidden_layers, hidden_layers_size, output_size):\n",
    "    layers = []\n",
    "    layers.append(nn.LayerNorm(input_size))\n",
    "    layers.append(nn.Linear(input_size, hidden_layers_size[0]))\n",
    "    for layer in range(num_hidden_layers-1):\n",
    "        layers.append(nn.Linear(hidden_layers_size[layer], hidden_layers_size[layer+1]))\n",
    "        # layers.append(nn.Tanh())\n",
    "    layers.append(nn.Linear(hidden_layers_size[-1], output_size))\n",
    "    # layers.append(nn.Tanh())\n",
    "    layers.append(nn.Softmax())\n",
    "    AI_bc = nn.Sequential(*layers, )\n",
    "    for layer in AI_bc.parameters():\n",
    "        layer.requires_grad = False\n",
    "    return AI_bc"
   ]
  },
  {
   "cell_type": "code",
   "execution_count": 64,
   "metadata": {},
   "outputs": [],
   "source": [
    "def get_move(input, i, brains):\n",
    "    dir = brains[i](input).argmax()\n",
    "    return DIRECTIONS[dir]"
   ]
  },
  {
   "cell_type": "code",
   "execution_count": 65,
   "metadata": {},
   "outputs": [],
   "source": [
    "def generate_input(game, window_size):\n",
    "    \n",
    "    head = game.snake_heads[0]\n",
    "    positions = game.get_all_eligible_neighbors(head, borders=True, window_size=window_size)\n",
    "    input_vector = []\n",
    "    for i, position in enumerate(positions):\n",
    "        # import pdb; pdb.set_trace();\n",
    "        input_vector_val = game.extract_position(position)\n",
    "        if input_vector_val == game.food_val:\n",
    "            input_vector_val = 1\n",
    "        elif input_vector_val == game.body_val:\n",
    "            input_vector_val = -1\n",
    "        elif input_vector_val == game.default_board_val:\n",
    "            input_vector_val = 0\n",
    "        elif input_vector_val == game.out_of_board:\n",
    "            input_vector_val = -1\n",
    "        input_vector.append(input_vector_val)\n",
    "    input_vector.append(head[0])\n",
    "    input_vector.append(head[1])\n",
    "    input_vector.append(game.food_positions[0][0])\n",
    "    input_vector.append(game.food_positions[0][1])\n",
    "    input_vector.append(head[0]-game.food_positions[0][0])\n",
    "    input_vector.append(head[1]-game.food_positions[0][1])\n",
    "    input_vector = torch.tensor(input_vector).float().reshape(-1, input_size)\n",
    "    return input_vector"
   ]
  },
  {
   "cell_type": "code",
   "execution_count": 66,
   "metadata": {},
   "outputs": [],
   "source": [
    "def run_one_trial(board_size, set_seed, i, window_size, brains, print=False):\n",
    "    moves = 0\n",
    "    game = Game(board_size, set_seed=set_seed)\n",
    "    # print(game.board)\n",
    "    game.print_board(print)\n",
    "    while game.zinda_hai_ki_nahi and moves <= move_limit:\n",
    "        input = generate_input(game, window_size)\n",
    "        dir = get_move(input, i, brains)\n",
    "        game.move(dir)\n",
    "        game.print_board(print)\n",
    "        moves += 1\n",
    "    return moves, len(game.snakes[0])"
   ]
  },
  {
   "cell_type": "code",
   "execution_count": 67,
   "metadata": {},
   "outputs": [],
   "source": [
    "def one_gen(board_size, set_seed, gen=0, window_size=3, brains=None):\n",
    "    max_moves = [0] * pop_size\n",
    "    max_scores = [0] * pop_size\n",
    "    avg_moves = [[]] * pop_size\n",
    "    avg_scores = [[]] * pop_size\n",
    "    for i in range(pop_size):    \n",
    "        individual_moves = []\n",
    "        individual_scores = []\n",
    "        for j in range(num_trials):\n",
    "            # print(f'trial {j} for pop {i} for gen {gen}')\n",
    "            moves, score = run_one_trial(board_size, set_seed, i, window_size, brains)\n",
    "            avg_moves[i].append(moves)\n",
    "            avg_scores[i].append(score)\n",
    "            individual_moves.append(moves)\n",
    "            individual_scores.append(score)\n",
    "            if moves > max_moves[i]:\n",
    "                max_moves[i] = moves\n",
    "            if score > max_scores[i]:\n",
    "                max_scores[i] = score\n",
    "        avg_moves[i] = sum(avg_moves[i])/len(avg_moves[i])\n",
    "        avg_scores[i] = sum(avg_scores[i])/len(avg_scores[i])\n",
    "        # print(f'ran {j} trials for individual {i} out of {pop_size} for gen {gen}, max move - {max(individual_moves)}, max score - {max(individual_scores)}')\n",
    "    # print(f'max moves for gen {gen} - {max_moves}')\n",
    "    # print(f'max scores  for gen {gen} - {max_scores}')\n",
    "    return np.array(max_moves), np.array(max_scores), np.array(avg_moves), np.array(avg_scores)"
   ]
  },
  {
   "cell_type": "code",
   "execution_count": 68,
   "metadata": {},
   "outputs": [],
   "source": [
    "def save_brains(PATH, brains):\n",
    "    for i, brain in enumerate(brains):\n",
    "        torch.save(brain, f'{PATH}_brain_{i}.pt')\n",
    "\n",
    "def load_brains(PATH, brains):\n",
    "    for pop in range(pop_size):\n",
    "        brains[pop] = torch.load(f'{PATH}_brain_{pop}.pt')\n",
    "        brains[pop].eval()"
   ]
  },
  {
   "cell_type": "code",
   "execution_count": 69,
   "metadata": {},
   "outputs": [],
   "source": [
    "def mutate(brain):\n",
    "    for layer in brain:\n",
    "        if isinstance(layer, nn.Linear):\n",
    "            # print('original')\n",
    "            # print(layer.weight[0])\n",
    "            # print('new')\n",
    "            # new_weights = layer.weight + ((torch.rand(layer.weight.shape)<self.mutation_rate).long() * torch.normal(layer.weight.shape) * self.mutation_change)\n",
    "            new_weights = layer.weight + ((torch.rand(layer.weight.shape)<mutation_rate).long() * torch.empty(layer.weight.shape).normal_(mean=0,std=1) * mutation_change)\n",
    "            layer.weight = nn.Parameter(new_weights, requires_grad=False)\n",
    "    return brain"
   ]
  },
  {
   "cell_type": "code",
   "execution_count": 70,
   "metadata": {},
   "outputs": [],
   "source": [
    "def reproduce(brain_pair):\n",
    "    brain_0 = brain_pair[0]\n",
    "    brain_1 = brain_pair[1]\n",
    "    new_brain = copy.deepcopy(brain_0)\n",
    "    for i, layer in enumerate(new_brain):\n",
    "        if isinstance(layer, nn.Linear):\n",
    "            # new_weights = layer.weight + ((torch.rand(layer.weight.shape)<self.mutation_rate).long() * torch.normal(layer.weight.shape) * self.mutation_change)\n",
    "            random_assignment = torch.randint_like(layer.weight, 0, 2)\n",
    "            new_weights = torch.mul(layer.weight, random_assignment) + torch.mul(brain_1[i].weight, 1-random_assignment)\n",
    "            layer.weight = nn.Parameter(new_weights, requires_grad=False)\n",
    "    return new_brain"
   ]
  },
  {
   "cell_type": "code",
   "execution_count": 71,
   "metadata": {},
   "outputs": [],
   "source": [
    "def evolve(top_25, brains):\n",
    "    new_brains = []\n",
    "    for brain in top_25:\n",
    "        new_brains.append(copy.deepcopy(brains[brain]))\n",
    "        new_brains.append(reproduce([brains[x] for x in np.random.choice(top_25, 2)]))\n",
    "    for _ in top_25:\n",
    "        new_brains.append(mutate(brains[brain]))\n",
    "    brains = new_brains\n",
    "    remaining = pop_size - len(brains)\n",
    "    # print(f'generating {remaining} extra brains')\n",
    "    brains += [generate_individual_brain(input_size, num_hidden_layers, hidden_layers_size, output_size) for _ in range(remaining)]\n",
    "    return brains"
   ]
  },
  {
   "cell_type": "code",
   "execution_count": 72,
   "metadata": {},
   "outputs": [],
   "source": [
    "def train_for_n_gen(brains):\n",
    "    # num_gen = self.num_gen\n",
    "    for gen in range(num_gen):\n",
    "        # max_moves, max_scores, avg_scores = one_gen(board_size, set_seed, gen, window_size=input_window_size)\n",
    "        max_moves, max_scores, avg_moves, avg_scores = one_gen(board_size, set_seed, 0, window_size=input_window_size, brains=brains)\n",
    "        final_scores = avg_scores + avg_moves/10\n",
    "        top_25 = np.argsort(final_scores)[::-1][:math.ceil(len(final_scores)/4)]\n",
    "        # print(max_scores[np.argsort(max_scores)][::-1][:math.ceil(len(max_scores)/4)])\n",
    "        # top_25 = np.argsort(max_scores)[::-1][:math.ceil(len(max_scores)/4)]\n",
    "        # top_25 = np.argsort(avg_scores)[::-1][:math.ceil(len(avg_scores)/4)]\n",
    "        print(f\"**END OF GEN {gen}**\")\n",
    "        print(f'max scores at the end of gen {gen} - {avg_scores}')\n",
    "        # print(f'max moves at the end of gen {gen} - {max_moves}')\n",
    "        brains = evolve(top_25, brains)"
   ]
  },
  {
   "cell_type": "code",
   "execution_count": 73,
   "metadata": {},
   "outputs": [],
   "source": [
    "pop_size = 500 # population size\n",
    "num_trials = 50\n",
    "move_limit = 100\n",
    "num_gen = 100\n",
    "\n",
    "mutation_rate = 0.05\n",
    "mutation_change = 0.1\n",
    "input_window_size = 3\n",
    "\n",
    "input_size = (input_window_size * input_window_size) -1 + 6\n",
    "num_hidden_layers = 4\n",
    "hidden_layers_size = [25] *  num_hidden_layers\n",
    "output_size = 4\n",
    "\n",
    "board_size = 10\n",
    "set_seed=False"
   ]
  },
  {
   "cell_type": "code",
   "execution_count": 74,
   "metadata": {},
   "outputs": [
    {
     "name": "stderr",
     "output_type": "stream",
     "text": [
      "c:\\Users\\abhis\\AppData\\Local\\Programs\\Python\\Python37\\lib\\site-packages\\torch\\nn\\modules\\container.py:139: UserWarning: Implicit dimension choice for softmax has been deprecated. Change the call to include dim=X as an argument.\n",
      "  input = module(input)\n"
     ]
    },
    {
     "ename": "KeyboardInterrupt",
     "evalue": "",
     "output_type": "error",
     "traceback": [
      "\u001b[1;31m---------------------------------------------------------------------------\u001b[0m",
      "\u001b[1;31mKeyboardInterrupt\u001b[0m                         Traceback (most recent call last)",
      "\u001b[1;32m<ipython-input-74-7b0300f5bada>\u001b[0m in \u001b[0;36m<module>\u001b[1;34m\u001b[0m\n\u001b[0;32m      1\u001b[0m \u001b[0mbrains\u001b[0m \u001b[1;33m=\u001b[0m \u001b[1;33m[\u001b[0m\u001b[0mgenerate_individual_brain\u001b[0m\u001b[1;33m(\u001b[0m\u001b[0minput_size\u001b[0m\u001b[1;33m,\u001b[0m \u001b[0mnum_hidden_layers\u001b[0m\u001b[1;33m,\u001b[0m \u001b[0mhidden_layers_size\u001b[0m\u001b[1;33m,\u001b[0m \u001b[0moutput_size\u001b[0m\u001b[1;33m)\u001b[0m \u001b[1;32mfor\u001b[0m \u001b[0m_\u001b[0m \u001b[1;32min\u001b[0m \u001b[0mrange\u001b[0m\u001b[1;33m(\u001b[0m\u001b[0mpop_size\u001b[0m\u001b[1;33m)\u001b[0m\u001b[1;33m]\u001b[0m\u001b[1;33m\u001b[0m\u001b[1;33m\u001b[0m\u001b[0m\n\u001b[1;32m----> 2\u001b[1;33m \u001b[0mtrain_for_n_gen\u001b[0m\u001b[1;33m(\u001b[0m\u001b[0mbrains\u001b[0m\u001b[1;33m)\u001b[0m\u001b[1;33m\u001b[0m\u001b[1;33m\u001b[0m\u001b[0m\n\u001b[0m",
      "\u001b[1;32m<ipython-input-72-3bbb4b91e2ec>\u001b[0m in \u001b[0;36mtrain_for_n_gen\u001b[1;34m(brains)\u001b[0m\n\u001b[0;32m      3\u001b[0m     \u001b[1;32mfor\u001b[0m \u001b[0mgen\u001b[0m \u001b[1;32min\u001b[0m \u001b[0mrange\u001b[0m\u001b[1;33m(\u001b[0m\u001b[0mnum_gen\u001b[0m\u001b[1;33m)\u001b[0m\u001b[1;33m:\u001b[0m\u001b[1;33m\u001b[0m\u001b[1;33m\u001b[0m\u001b[0m\n\u001b[0;32m      4\u001b[0m         \u001b[1;31m# max_moves, max_scores, avg_scores = one_gen(board_size, set_seed, gen, window_size=input_window_size)\u001b[0m\u001b[1;33m\u001b[0m\u001b[1;33m\u001b[0m\u001b[1;33m\u001b[0m\u001b[0m\n\u001b[1;32m----> 5\u001b[1;33m         \u001b[0mmax_moves\u001b[0m\u001b[1;33m,\u001b[0m \u001b[0mmax_scores\u001b[0m\u001b[1;33m,\u001b[0m \u001b[0mavg_moves\u001b[0m\u001b[1;33m,\u001b[0m \u001b[0mavg_scores\u001b[0m \u001b[1;33m=\u001b[0m \u001b[0mone_gen\u001b[0m\u001b[1;33m(\u001b[0m\u001b[0mboard_size\u001b[0m\u001b[1;33m,\u001b[0m \u001b[0mset_seed\u001b[0m\u001b[1;33m,\u001b[0m \u001b[1;36m0\u001b[0m\u001b[1;33m,\u001b[0m \u001b[0mwindow_size\u001b[0m\u001b[1;33m=\u001b[0m\u001b[0minput_window_size\u001b[0m\u001b[1;33m,\u001b[0m \u001b[0mbrains\u001b[0m\u001b[1;33m=\u001b[0m\u001b[0mbrains\u001b[0m\u001b[1;33m)\u001b[0m\u001b[1;33m\u001b[0m\u001b[1;33m\u001b[0m\u001b[0m\n\u001b[0m\u001b[0;32m      6\u001b[0m         \u001b[0mfinal_scores\u001b[0m \u001b[1;33m=\u001b[0m \u001b[0mavg_scores\u001b[0m \u001b[1;33m+\u001b[0m \u001b[0mavg_moves\u001b[0m\u001b[1;33m/\u001b[0m\u001b[1;36m10\u001b[0m\u001b[1;33m\u001b[0m\u001b[1;33m\u001b[0m\u001b[0m\n\u001b[0;32m      7\u001b[0m         \u001b[0mtop_25\u001b[0m \u001b[1;33m=\u001b[0m \u001b[0mnp\u001b[0m\u001b[1;33m.\u001b[0m\u001b[0margsort\u001b[0m\u001b[1;33m(\u001b[0m\u001b[0mfinal_scores\u001b[0m\u001b[1;33m)\u001b[0m\u001b[1;33m[\u001b[0m\u001b[1;33m:\u001b[0m\u001b[1;33m:\u001b[0m\u001b[1;33m-\u001b[0m\u001b[1;36m1\u001b[0m\u001b[1;33m]\u001b[0m\u001b[1;33m[\u001b[0m\u001b[1;33m:\u001b[0m\u001b[0mmath\u001b[0m\u001b[1;33m.\u001b[0m\u001b[0mceil\u001b[0m\u001b[1;33m(\u001b[0m\u001b[0mlen\u001b[0m\u001b[1;33m(\u001b[0m\u001b[0mfinal_scores\u001b[0m\u001b[1;33m)\u001b[0m\u001b[1;33m/\u001b[0m\u001b[1;36m4\u001b[0m\u001b[1;33m)\u001b[0m\u001b[1;33m]\u001b[0m\u001b[1;33m\u001b[0m\u001b[1;33m\u001b[0m\u001b[0m\n",
      "\u001b[1;32m<ipython-input-67-7774a0c9a6b0>\u001b[0m in \u001b[0;36mone_gen\u001b[1;34m(board_size, set_seed, gen, window_size, brains)\u001b[0m\n\u001b[0;32m      9\u001b[0m         \u001b[1;32mfor\u001b[0m \u001b[0mj\u001b[0m \u001b[1;32min\u001b[0m \u001b[0mrange\u001b[0m\u001b[1;33m(\u001b[0m\u001b[0mnum_trials\u001b[0m\u001b[1;33m)\u001b[0m\u001b[1;33m:\u001b[0m\u001b[1;33m\u001b[0m\u001b[1;33m\u001b[0m\u001b[0m\n\u001b[0;32m     10\u001b[0m             \u001b[1;31m# print(f'trial {j} for pop {i} for gen {gen}')\u001b[0m\u001b[1;33m\u001b[0m\u001b[1;33m\u001b[0m\u001b[1;33m\u001b[0m\u001b[0m\n\u001b[1;32m---> 11\u001b[1;33m             \u001b[0mmoves\u001b[0m\u001b[1;33m,\u001b[0m \u001b[0mscore\u001b[0m \u001b[1;33m=\u001b[0m \u001b[0mrun_one_trial\u001b[0m\u001b[1;33m(\u001b[0m\u001b[0mboard_size\u001b[0m\u001b[1;33m,\u001b[0m \u001b[0mset_seed\u001b[0m\u001b[1;33m,\u001b[0m \u001b[0mi\u001b[0m\u001b[1;33m,\u001b[0m \u001b[0mwindow_size\u001b[0m\u001b[1;33m,\u001b[0m \u001b[0mbrains\u001b[0m\u001b[1;33m)\u001b[0m\u001b[1;33m\u001b[0m\u001b[1;33m\u001b[0m\u001b[0m\n\u001b[0m\u001b[0;32m     12\u001b[0m             \u001b[0mavg_moves\u001b[0m\u001b[1;33m[\u001b[0m\u001b[0mi\u001b[0m\u001b[1;33m]\u001b[0m\u001b[1;33m.\u001b[0m\u001b[0mappend\u001b[0m\u001b[1;33m(\u001b[0m\u001b[0mmoves\u001b[0m\u001b[1;33m)\u001b[0m\u001b[1;33m\u001b[0m\u001b[1;33m\u001b[0m\u001b[0m\n\u001b[0;32m     13\u001b[0m             \u001b[0mavg_scores\u001b[0m\u001b[1;33m[\u001b[0m\u001b[0mi\u001b[0m\u001b[1;33m]\u001b[0m\u001b[1;33m.\u001b[0m\u001b[0mappend\u001b[0m\u001b[1;33m(\u001b[0m\u001b[0mscore\u001b[0m\u001b[1;33m)\u001b[0m\u001b[1;33m\u001b[0m\u001b[1;33m\u001b[0m\u001b[0m\n",
      "\u001b[1;32m<ipython-input-66-44ca8a565a29>\u001b[0m in \u001b[0;36mrun_one_trial\u001b[1;34m(board_size, set_seed, i, window_size, brains, print)\u001b[0m\n\u001b[0;32m      6\u001b[0m     \u001b[1;32mwhile\u001b[0m \u001b[0mgame\u001b[0m\u001b[1;33m.\u001b[0m\u001b[0mzinda_hai_ki_nahi\u001b[0m \u001b[1;32mand\u001b[0m \u001b[0mmoves\u001b[0m \u001b[1;33m<=\u001b[0m \u001b[0mmove_limit\u001b[0m\u001b[1;33m:\u001b[0m\u001b[1;33m\u001b[0m\u001b[1;33m\u001b[0m\u001b[0m\n\u001b[0;32m      7\u001b[0m         \u001b[0minput\u001b[0m \u001b[1;33m=\u001b[0m \u001b[0mgenerate_input\u001b[0m\u001b[1;33m(\u001b[0m\u001b[0mgame\u001b[0m\u001b[1;33m,\u001b[0m \u001b[0mwindow_size\u001b[0m\u001b[1;33m)\u001b[0m\u001b[1;33m\u001b[0m\u001b[1;33m\u001b[0m\u001b[0m\n\u001b[1;32m----> 8\u001b[1;33m         \u001b[0mdir\u001b[0m \u001b[1;33m=\u001b[0m \u001b[0mget_move\u001b[0m\u001b[1;33m(\u001b[0m\u001b[0minput\u001b[0m\u001b[1;33m,\u001b[0m \u001b[0mi\u001b[0m\u001b[1;33m,\u001b[0m \u001b[0mbrains\u001b[0m\u001b[1;33m)\u001b[0m\u001b[1;33m\u001b[0m\u001b[1;33m\u001b[0m\u001b[0m\n\u001b[0m\u001b[0;32m      9\u001b[0m         \u001b[0mgame\u001b[0m\u001b[1;33m.\u001b[0m\u001b[0mmove\u001b[0m\u001b[1;33m(\u001b[0m\u001b[0mdir\u001b[0m\u001b[1;33m)\u001b[0m\u001b[1;33m\u001b[0m\u001b[1;33m\u001b[0m\u001b[0m\n\u001b[0;32m     10\u001b[0m         \u001b[0mgame\u001b[0m\u001b[1;33m.\u001b[0m\u001b[0mprint_board\u001b[0m\u001b[1;33m(\u001b[0m\u001b[0mprint\u001b[0m\u001b[1;33m)\u001b[0m\u001b[1;33m\u001b[0m\u001b[1;33m\u001b[0m\u001b[0m\n",
      "\u001b[1;32m<ipython-input-64-7934e237ad49>\u001b[0m in \u001b[0;36mget_move\u001b[1;34m(input, i, brains)\u001b[0m\n\u001b[0;32m      1\u001b[0m \u001b[1;32mdef\u001b[0m \u001b[0mget_move\u001b[0m\u001b[1;33m(\u001b[0m\u001b[0minput\u001b[0m\u001b[1;33m,\u001b[0m \u001b[0mi\u001b[0m\u001b[1;33m,\u001b[0m \u001b[0mbrains\u001b[0m\u001b[1;33m)\u001b[0m\u001b[1;33m:\u001b[0m\u001b[1;33m\u001b[0m\u001b[1;33m\u001b[0m\u001b[0m\n\u001b[1;32m----> 2\u001b[1;33m     \u001b[0mdir\u001b[0m \u001b[1;33m=\u001b[0m \u001b[0mbrains\u001b[0m\u001b[1;33m[\u001b[0m\u001b[0mi\u001b[0m\u001b[1;33m]\u001b[0m\u001b[1;33m(\u001b[0m\u001b[0minput\u001b[0m\u001b[1;33m)\u001b[0m\u001b[1;33m.\u001b[0m\u001b[0margmax\u001b[0m\u001b[1;33m(\u001b[0m\u001b[1;33m)\u001b[0m\u001b[1;33m\u001b[0m\u001b[1;33m\u001b[0m\u001b[0m\n\u001b[0m\u001b[0;32m      3\u001b[0m     \u001b[1;32mreturn\u001b[0m \u001b[0mDIRECTIONS\u001b[0m\u001b[1;33m[\u001b[0m\u001b[0mdir\u001b[0m\u001b[1;33m]\u001b[0m\u001b[1;33m\u001b[0m\u001b[1;33m\u001b[0m\u001b[0m\n",
      "\u001b[1;32mc:\\Users\\abhis\\AppData\\Local\\Programs\\Python\\Python37\\lib\\site-packages\\torch\\nn\\modules\\module.py\u001b[0m in \u001b[0;36m_call_impl\u001b[1;34m(self, *input, **kwargs)\u001b[0m\n\u001b[0;32m   1128\u001b[0m         if not (self._backward_hooks or self._forward_hooks or self._forward_pre_hooks or _global_backward_hooks\n\u001b[0;32m   1129\u001b[0m                 or _global_forward_hooks or _global_forward_pre_hooks):\n\u001b[1;32m-> 1130\u001b[1;33m             \u001b[1;32mreturn\u001b[0m \u001b[0mforward_call\u001b[0m\u001b[1;33m(\u001b[0m\u001b[1;33m*\u001b[0m\u001b[0minput\u001b[0m\u001b[1;33m,\u001b[0m \u001b[1;33m**\u001b[0m\u001b[0mkwargs\u001b[0m\u001b[1;33m)\u001b[0m\u001b[1;33m\u001b[0m\u001b[1;33m\u001b[0m\u001b[0m\n\u001b[0m\u001b[0;32m   1131\u001b[0m         \u001b[1;31m# Do not call functions when jit is used\u001b[0m\u001b[1;33m\u001b[0m\u001b[1;33m\u001b[0m\u001b[1;33m\u001b[0m\u001b[0m\n\u001b[0;32m   1132\u001b[0m         \u001b[0mfull_backward_hooks\u001b[0m\u001b[1;33m,\u001b[0m \u001b[0mnon_full_backward_hooks\u001b[0m \u001b[1;33m=\u001b[0m \u001b[1;33m[\u001b[0m\u001b[1;33m]\u001b[0m\u001b[1;33m,\u001b[0m \u001b[1;33m[\u001b[0m\u001b[1;33m]\u001b[0m\u001b[1;33m\u001b[0m\u001b[1;33m\u001b[0m\u001b[0m\n",
      "\u001b[1;32mc:\\Users\\abhis\\AppData\\Local\\Programs\\Python\\Python37\\lib\\site-packages\\torch\\nn\\modules\\container.py\u001b[0m in \u001b[0;36mforward\u001b[1;34m(self, input)\u001b[0m\n\u001b[0;32m    137\u001b[0m     \u001b[1;32mdef\u001b[0m \u001b[0mforward\u001b[0m\u001b[1;33m(\u001b[0m\u001b[0mself\u001b[0m\u001b[1;33m,\u001b[0m \u001b[0minput\u001b[0m\u001b[1;33m)\u001b[0m\u001b[1;33m:\u001b[0m\u001b[1;33m\u001b[0m\u001b[1;33m\u001b[0m\u001b[0m\n\u001b[0;32m    138\u001b[0m         \u001b[1;32mfor\u001b[0m \u001b[0mmodule\u001b[0m \u001b[1;32min\u001b[0m \u001b[0mself\u001b[0m\u001b[1;33m:\u001b[0m\u001b[1;33m\u001b[0m\u001b[1;33m\u001b[0m\u001b[0m\n\u001b[1;32m--> 139\u001b[1;33m             \u001b[0minput\u001b[0m \u001b[1;33m=\u001b[0m \u001b[0mmodule\u001b[0m\u001b[1;33m(\u001b[0m\u001b[0minput\u001b[0m\u001b[1;33m)\u001b[0m\u001b[1;33m\u001b[0m\u001b[1;33m\u001b[0m\u001b[0m\n\u001b[0m\u001b[0;32m    140\u001b[0m         \u001b[1;32mreturn\u001b[0m \u001b[0minput\u001b[0m\u001b[1;33m\u001b[0m\u001b[1;33m\u001b[0m\u001b[0m\n\u001b[0;32m    141\u001b[0m \u001b[1;33m\u001b[0m\u001b[0m\n",
      "\u001b[1;32mc:\\Users\\abhis\\AppData\\Local\\Programs\\Python\\Python37\\lib\\site-packages\\torch\\nn\\modules\\module.py\u001b[0m in \u001b[0;36m_call_impl\u001b[1;34m(self, *input, **kwargs)\u001b[0m\n\u001b[0;32m   1128\u001b[0m         if not (self._backward_hooks or self._forward_hooks or self._forward_pre_hooks or _global_backward_hooks\n\u001b[0;32m   1129\u001b[0m                 or _global_forward_hooks or _global_forward_pre_hooks):\n\u001b[1;32m-> 1130\u001b[1;33m             \u001b[1;32mreturn\u001b[0m \u001b[0mforward_call\u001b[0m\u001b[1;33m(\u001b[0m\u001b[1;33m*\u001b[0m\u001b[0minput\u001b[0m\u001b[1;33m,\u001b[0m \u001b[1;33m**\u001b[0m\u001b[0mkwargs\u001b[0m\u001b[1;33m)\u001b[0m\u001b[1;33m\u001b[0m\u001b[1;33m\u001b[0m\u001b[0m\n\u001b[0m\u001b[0;32m   1131\u001b[0m         \u001b[1;31m# Do not call functions when jit is used\u001b[0m\u001b[1;33m\u001b[0m\u001b[1;33m\u001b[0m\u001b[1;33m\u001b[0m\u001b[0m\n\u001b[0;32m   1132\u001b[0m         \u001b[0mfull_backward_hooks\u001b[0m\u001b[1;33m,\u001b[0m \u001b[0mnon_full_backward_hooks\u001b[0m \u001b[1;33m=\u001b[0m \u001b[1;33m[\u001b[0m\u001b[1;33m]\u001b[0m\u001b[1;33m,\u001b[0m \u001b[1;33m[\u001b[0m\u001b[1;33m]\u001b[0m\u001b[1;33m\u001b[0m\u001b[1;33m\u001b[0m\u001b[0m\n",
      "\u001b[1;32mc:\\Users\\abhis\\AppData\\Local\\Programs\\Python\\Python37\\lib\\site-packages\\torch\\nn\\modules\\linear.py\u001b[0m in \u001b[0;36mforward\u001b[1;34m(self, input)\u001b[0m\n\u001b[0;32m    112\u001b[0m \u001b[1;33m\u001b[0m\u001b[0m\n\u001b[0;32m    113\u001b[0m     \u001b[1;32mdef\u001b[0m \u001b[0mforward\u001b[0m\u001b[1;33m(\u001b[0m\u001b[0mself\u001b[0m\u001b[1;33m,\u001b[0m \u001b[0minput\u001b[0m\u001b[1;33m:\u001b[0m \u001b[0mTensor\u001b[0m\u001b[1;33m)\u001b[0m \u001b[1;33m->\u001b[0m \u001b[0mTensor\u001b[0m\u001b[1;33m:\u001b[0m\u001b[1;33m\u001b[0m\u001b[1;33m\u001b[0m\u001b[0m\n\u001b[1;32m--> 114\u001b[1;33m         \u001b[1;32mreturn\u001b[0m \u001b[0mF\u001b[0m\u001b[1;33m.\u001b[0m\u001b[0mlinear\u001b[0m\u001b[1;33m(\u001b[0m\u001b[0minput\u001b[0m\u001b[1;33m,\u001b[0m \u001b[0mself\u001b[0m\u001b[1;33m.\u001b[0m\u001b[0mweight\u001b[0m\u001b[1;33m,\u001b[0m \u001b[0mself\u001b[0m\u001b[1;33m.\u001b[0m\u001b[0mbias\u001b[0m\u001b[1;33m)\u001b[0m\u001b[1;33m\u001b[0m\u001b[1;33m\u001b[0m\u001b[0m\n\u001b[0m\u001b[0;32m    115\u001b[0m \u001b[1;33m\u001b[0m\u001b[0m\n\u001b[0;32m    116\u001b[0m     \u001b[1;32mdef\u001b[0m \u001b[0mextra_repr\u001b[0m\u001b[1;33m(\u001b[0m\u001b[0mself\u001b[0m\u001b[1;33m)\u001b[0m \u001b[1;33m->\u001b[0m \u001b[0mstr\u001b[0m\u001b[1;33m:\u001b[0m\u001b[1;33m\u001b[0m\u001b[1;33m\u001b[0m\u001b[0m\n",
      "\u001b[1;31mKeyboardInterrupt\u001b[0m: "
     ]
    }
   ],
   "source": [
    "brains = [generate_individual_brain(input_size, num_hidden_layers, hidden_layers_size, output_size) for _ in range(pop_size)]\n",
    "train_for_n_gen(brains)"
   ]
  },
  {
   "cell_type": "code",
   "execution_count": null,
   "metadata": {},
   "outputs": [],
   "source": [
    "save_brains(PATH, brains)"
   ]
  },
  {
   "cell_type": "code",
   "execution_count": null,
   "metadata": {},
   "outputs": [
    {
     "name": "stdout",
     "output_type": "stream",
     "text": [
      "|__|__|__|__|__|__|__|__|__|__|\n",
      "|__|__|__|__|__|__|__|__|__|__|\n",
      "|__|__|__|__|__|__|__|__|__|__|\n",
      "|__|__|__|__|__|__|__|++|__|__|\n",
      "|__|__|__|__|__|__|__|++|__|__|\n",
      "|__|__|__|__|__|__|__|* |__|__|\n",
      "|__|__|__|__|__|__|@ |__|__|__|\n",
      "|__|__|__|__|__|__|__|__|__|__|\n",
      "|__|__|__|__|__|__|__|__|__|__|\n",
      "|__|__|__|__|__|__|__|__|__|__|\n",
      "\n",
      "|__|__|__|__|__|__|__|__|__|__|\n",
      "|__|__|__|__|__|__|__|__|__|__|\n",
      "|__|__|__|__|__|__|__|__|__|__|\n",
      "|__|__|__|__|__|__|__|__|__|__|\n",
      "|__|__|__|__|__|__|__|++|__|__|\n",
      "|__|__|__|__|__|__|__|++|* |__|\n",
      "|__|__|__|__|__|__|@ |__|__|__|\n",
      "|__|__|__|__|__|__|__|__|__|__|\n",
      "|__|__|__|__|__|__|__|__|__|__|\n",
      "|__|__|__|__|__|__|__|__|__|__|\n",
      "\n",
      "|__|__|__|__|__|__|__|__|__|__|\n",
      "|__|__|__|__|__|__|__|__|__|__|\n",
      "|__|__|__|__|__|__|__|__|__|__|\n",
      "|__|__|__|__|__|__|__|__|__|__|\n",
      "|__|__|__|__|__|__|__|__|__|__|\n",
      "|__|__|__|__|__|__|__|++|++|* |\n",
      "|__|__|__|__|__|__|@ |__|__|__|\n",
      "|__|__|__|__|__|__|__|__|__|__|\n",
      "|__|__|__|__|__|__|__|__|__|__|\n",
      "|__|__|__|__|__|__|__|__|__|__|\n",
      "\n",
      "|__|__|__|__|__|__|__|__|__|__|\n",
      "|__|__|__|__|__|__|__|__|__|__|\n",
      "|__|__|__|__|__|__|__|__|__|__|\n",
      "|__|__|__|__|__|__|__|__|__|__|\n",
      "|__|__|__|__|__|__|__|__|__|__|\n",
      "|__|__|__|__|__|__|__|++|++|++|\n",
      "|__|__|__|__|__|__|@ |__|__|__|\n",
      "|__|__|__|__|__|__|__|__|__|__|\n",
      "|__|__|__|__|__|__|__|__|__|__|\n",
      "|__|__|__|__|__|__|__|__|__|__|\n",
      "\n"
     ]
    },
    {
     "data": {
      "text/plain": [
       "(3, 3)"
      ]
     },
     "execution_count": 59,
     "metadata": {},
     "output_type": "execute_result"
    }
   ],
   "source": [
    "run_one_trial(board_size=board_size, set_seed=True, i=0, window_size=3, brains=brains, print=True)"
   ]
  },
  {
   "cell_type": "code",
   "execution_count": null,
   "metadata": {},
   "outputs": [],
   "source": []
  }
 ],
 "metadata": {
  "kernelspec": {
   "display_name": "Python 3.7.4 64-bit",
   "language": "python",
   "name": "python3"
  },
  "language_info": {
   "codemirror_mode": {
    "name": "ipython",
    "version": 3
   },
   "file_extension": ".py",
   "mimetype": "text/x-python",
   "name": "python",
   "nbconvert_exporter": "python",
   "pygments_lexer": "ipython3",
   "version": "3.7.4"
  },
  "orig_nbformat": 4,
  "vscode": {
   "interpreter": {
    "hash": "e92b1e64e1a18e37adf6cde0fcba1eef4a91520bfe33ee18938e1ee724c61147"
   }
  }
 },
 "nbformat": 4,
 "nbformat_minor": 2
}
