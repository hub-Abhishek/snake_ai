{
 "cells": [
  {
   "cell_type": "code",
   "execution_count": 1,
   "metadata": {},
   "outputs": [],
   "source": [
    "import numpy as np"
   ]
  },
  {
   "cell_type": "code",
   "execution_count": 5,
   "metadata": {},
   "outputs": [
    {
     "data": {
      "text/plain": [
       "array([[1, 9]])"
      ]
     },
     "execution_count": 5,
     "metadata": {},
     "output_type": "execute_result"
    }
   ],
   "source": [
    "z = np.random.randint(0, 10, (1, 2))\n",
    "z"
   ]
  },
  {
   "cell_type": "code",
   "execution_count": null,
   "metadata": {},
   "outputs": [],
   "source": [
    "\n",
    "for move in ['down', 'left', 'left', 'left', 'left', 'left', 'up', \n",
    "'up', 'up', 'right', 'right', 'right', 'right', 'right', 'down', 'down', \n",
    "'left', 'left', 'left', 'left', 'up', 'up', 'up', 'right', 'right', 'right', \n",
    "'right', 'right', 'down', 'down', 'down', 'down', 'down', 'left', 'left', 'left',\n",
    "'up', 'up', 'up', 'up', 'up', 'left', 'left', 'left', 'left', 'down', 'down', 'down', \n",
    "'down', 'down', 'down', 'right', 'right', 'right', 'right', 'down', 'left', 'left', 'left', \n",
    "'left', 'left', 'up', 'up', 'up', 'up', 'up', 'right', 'right', 'right', 'right', 'right', 'right', \n",
    "'right', 'right', 'right', 'down', 'down', 'down', 'down', 'down', 'left', 'left', 'left', 'left']:\n",
    "    game.move(move)"
   ]
  }
 ],
 "metadata": {
  "kernelspec": {
   "display_name": "Python 3.7.4 64-bit",
   "language": "python",
   "name": "python3"
  },
  "language_info": {
   "codemirror_mode": {
    "name": "ipython",
    "version": 3
   },
   "file_extension": ".py",
   "mimetype": "text/x-python",
   "name": "python",
   "nbconvert_exporter": "python",
   "pygments_lexer": "ipython3",
   "version": "3.7.4"
  },
  "orig_nbformat": 4,
  "vscode": {
   "interpreter": {
    "hash": "e92b1e64e1a18e37adf6cde0fcba1eef4a91520bfe33ee18938e1ee724c61147"
   }
  }
 },
 "nbformat": 4,
 "nbformat_minor": 2
}
