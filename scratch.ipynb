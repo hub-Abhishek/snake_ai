{
 "cells": [
  {
   "cell_type": "code",
   "execution_count": 32,
   "metadata": {},
   "outputs": [
    {
     "name": "stdout",
     "output_type": "stream",
     "text": [
      "The autoreload extension is already loaded. To reload it, use:\n",
      "  %reload_ext autoreload\n"
     ]
    }
   ],
   "source": [
    "%load_ext autoreload\n",
    "%autoreload 2"
   ]
  },
  {
   "cell_type": "code",
   "execution_count": 33,
   "metadata": {},
   "outputs": [],
   "source": [
    "import numpy as np\n",
    "import math\n",
    "import copy\n",
    "import torch\n",
    "import torch.nn as nn\n",
    "import torch.nn.functional as f\n",
    "\n",
    "from game import *\n",
    "from player import *"
   ]
  },
  {
   "cell_type": "code",
   "execution_count": 34,
   "metadata": {},
   "outputs": [],
   "source": [
    "PATH = 'C:/Users/abhis/Downloads/New folder/project/Snake AI'"
   ]
  },
  {
   "cell_type": "code",
   "execution_count": 35,
   "metadata": {},
   "outputs": [],
   "source": [
    "def generate_individual_brain(input_size, num_hidden_layers, hidden_layers_size, output_size):\n",
    "    layers = []\n",
    "    layers.append(nn.LayerNorm(input_size))\n",
    "    layers.append(nn.Linear(input_size, hidden_layers_size[0]))\n",
    "    for layer in range(num_hidden_layers-1):\n",
    "        layers.append(nn.Linear(hidden_layers_size[layer], hidden_layers_size[layer+1]))\n",
    "        # layers.append(nn.Tanh())\n",
    "    layers.append(nn.Linear(hidden_layers_size[-1], output_size))\n",
    "    # layers.append(nn.Tanh())\n",
    "    layers.append(nn.Softmax())\n",
    "    AI_bc = nn.Sequential(*layers, )\n",
    "    for layer in AI_bc.parameters():\n",
    "        layer.requires_grad = False\n",
    "    return AI_bc"
   ]
  },
  {
   "cell_type": "code",
   "execution_count": 36,
   "metadata": {},
   "outputs": [],
   "source": [
    "# def generate_brains(pop_size, input_size, num_hidden_layers, hidden_layers_size, output_size):\n",
    "#     brains = []\n",
    "#     for brain in range(pop_size):\n",
    "#         # AI_bc\n",
    "#         AI_bc = generate_individual_brain(input_size, num_hidden_layers, hidden_layers_size, output_size)\n",
    "#         brains.append(AI_bc)\n",
    "#     return brains"
   ]
  },
  {
   "cell_type": "code",
   "execution_count": 37,
   "metadata": {},
   "outputs": [],
   "source": [
    "def get_move(input, i):\n",
    "    dir = brains[i](input).argmax()\n",
    "    return DIRECTIONS[dir]"
   ]
  },
  {
   "cell_type": "code",
   "execution_count": 38,
   "metadata": {},
   "outputs": [],
   "source": [
    "def generate_input(game, window_size):\n",
    "    \n",
    "    head = game.snake_heads[0]\n",
    "    positions = game.get_all_eligible_neighbors(head, borders=True, window_size=window_size)\n",
    "    input_vector = []\n",
    "    for i, position in enumerate(positions):\n",
    "        # import pdb; pdb.set_trace();\n",
    "        input_vector_val = game.extract_position(position)\n",
    "        if input_vector_val == game.food_val:\n",
    "            input_vector_val = 1\n",
    "        elif input_vector_val == game.body_val:\n",
    "            input_vector_val = -1\n",
    "        elif input_vector_val == game.default_board_val:\n",
    "            input_vector_val = 0\n",
    "        elif input_vector_val == game.out_of_board:\n",
    "            input_vector_val = -1\n",
    "        input_vector.append(input_vector_val)\n",
    "    input_vector.append(head[0])\n",
    "    input_vector.append(head[1])\n",
    "    input_vector.append(game.food_positions[0][0])\n",
    "    input_vector.append(game.food_positions[0][1])\n",
    "    input_vector.append(head[0]-game.food_positions[0][0])\n",
    "    input_vector.append(head[1]-game.food_positions[0][1])\n",
    "    input_vector = torch.tensor(input_vector).float().reshape(-1, input_size)\n",
    "    return input_vector"
   ]
  },
  {
   "cell_type": "code",
   "execution_count": 39,
   "metadata": {},
   "outputs": [],
   "source": [
    "def run_one_trial(board_size, set_seed, i, window_size):\n",
    "    moves = 0\n",
    "    game = Game(board_size, set_seed=set_seed)\n",
    "    # print(game.board)\n",
    "    # game.print_board(True)\n",
    "    while game.zinda_hai_ki_nahi and moves <= move_limit:\n",
    "        input = generate_input(game, window_size)\n",
    "        dir = get_move(input, i)\n",
    "        game.move(dir)\n",
    "        moves += 1\n",
    "    return moves, len(game.snakes[0])"
   ]
  },
  {
   "cell_type": "code",
   "execution_count": 40,
   "metadata": {},
   "outputs": [],
   "source": [
    "def one_gen(board_size, set_seed, gen=0, window_size=3):\n",
    "    max_moves = [0] * pop_size\n",
    "    max_scores = [0] * pop_size\n",
    "    avg_moves = [[]] * pop_size\n",
    "    avg_scores = [[]] * pop_size\n",
    "    for i in range(pop_size):    \n",
    "        individual_moves = []\n",
    "        individual_scores = []\n",
    "        for j in range(num_trials):\n",
    "            # print(f'trial {j} for pop {i} for gen {gen}')\n",
    "            moves, score = run_one_trial(board_size, set_seed, i, window_size)\n",
    "            avg_moves[i].append(moves)\n",
    "            avg_scores[i].append(score)\n",
    "            individual_moves.append(moves)\n",
    "            individual_scores.append(score)\n",
    "            if moves > max_moves[i]:\n",
    "                max_moves[i] = moves\n",
    "            if score > max_scores[i]:\n",
    "                max_scores[i] = score\n",
    "        avg_moves[i] = sum(avg_moves[i])/len(avg_moves[i])\n",
    "        avg_scores[i] = sum(avg_scores[i])/len(avg_scores[i])\n",
    "        # print(f'ran {j} trials for individual {i} out of {pop_size} for gen {gen}, max move - {max(individual_moves)}, max score - {max(individual_scores)}')\n",
    "    # print(f'max moves for gen {gen} - {max_moves}')\n",
    "    # print(f'max scores  for gen {gen} - {max_scores}')\n",
    "    return np.array(max_moves), np.array(max_scores), np.array(avg_moves), np.array(avg_scores)"
   ]
  },
  {
   "cell_type": "code",
   "execution_count": 41,
   "metadata": {},
   "outputs": [],
   "source": [
    "def save_brains(PATH):\n",
    "    for i, brain in enumerate(brains):\n",
    "        torch.save(brain, f'{PATH}_brain_{i}.pt')\n",
    "\n",
    "def load_brains(PATH):\n",
    "    for pop in range(pop_size):\n",
    "        brains[pop] = torch.load(f'{PATH}_brain_{pop}.pt')\n",
    "        brains[pop].eval()"
   ]
  },
  {
   "cell_type": "code",
   "execution_count": 90,
   "metadata": {},
   "outputs": [],
   "source": [
    "def mutate(brain):\n",
    "    print(brain[0][1].weight)\n",
    "    for layer in brain:\n",
    "        if isinstance(layer, nn.Linear):\n",
    "            # print('original')\n",
    "            # print(layer.weight[0])\n",
    "            # print('new')\n",
    "            # new_weights = layer.weight + ((torch.rand(layer.weight.shape)<self.mutation_rate).long() * torch.normal(layer.weight.shape) * self.mutation_change)\n",
    "            new_weights = layer.weight + ((torch.rand(layer.weight.shape)<mutation_rate).long() * torch.empty(layer.weight.shape).normal_(mean=0,std=1) * mutation_change)\n",
    "            layer.weight = nn.Parameter(new_weights, requires_grad=False)\n",
    "            # print(layer.weight[0])\n",
    "    print(brain[0][1].weight)\n",
    "    return brain"
   ]
  },
  {
   "cell_type": "code",
   "execution_count": null,
   "metadata": {},
   "outputs": [],
   "source": [
    "def reproduce(brain_pair):\n",
    "    brain_0 = brain_pair[0]\n",
    "    brain_1 = brain_pair[1]\n",
    "    for i, _ in enumerate(brain_0):\n",
    "        if isinstance(brain_0[i], nn.Linear):\n",
    "            # new_weights = layer.weight + ((torch.rand(layer.weight.shape)<self.mutation_rate).long() * torch.normal(layer.weight.shape) * self.mutation_change)\n",
    "            random_assignment = torch.randint_like(brain_0[i].weight, 0, 2)\n",
    "            new_weights = torch.mul(brain_0[i].weight, random_assignment) + torch.mul(brain_1[i].weight, 1-random_assignment)\n",
    "            layer.weight = nn.Parameter(new_weights, requires_grad=False)\n",
    "    return brain"
   ]
  },
  {
   "cell_type": "code",
   "execution_count": 78,
   "metadata": {},
   "outputs": [
    {
     "ename": "TypeError",
     "evalue": "randint_like() received an invalid combination of arguments - got (Sequential), but expected one of:\n * (Tensor input, int high, *, torch.memory_format memory_format, torch.dtype dtype, torch.layout layout, torch.device device, bool pin_memory, bool requires_grad)\n * (Tensor input, int low, int high, *, torch.memory_format memory_format, torch.dtype dtype, torch.layout layout, torch.device device, bool pin_memory, bool requires_grad)\n",
     "output_type": "error",
     "traceback": [
      "\u001b[1;31m---------------------------------------------------------------------------\u001b[0m",
      "\u001b[1;31mTypeError\u001b[0m                                 Traceback (most recent call last)",
      "\u001b[1;32m<ipython-input-78-c70bb5110631>\u001b[0m in \u001b[0;36m<module>\u001b[1;34m\u001b[0m\n\u001b[0;32m      1\u001b[0m \u001b[0mz\u001b[0m \u001b[1;33m=\u001b[0m \u001b[1;33m[\u001b[0m\u001b[0mbrains\u001b[0m\u001b[1;33m[\u001b[0m\u001b[0mx\u001b[0m\u001b[1;33m]\u001b[0m \u001b[1;32mfor\u001b[0m \u001b[0mx\u001b[0m \u001b[1;32min\u001b[0m \u001b[0mnp\u001b[0m\u001b[1;33m.\u001b[0m\u001b[0mrandom\u001b[0m\u001b[1;33m.\u001b[0m\u001b[0mchoice\u001b[0m\u001b[1;33m(\u001b[0m\u001b[0mtop_25\u001b[0m\u001b[1;33m,\u001b[0m \u001b[1;36m2\u001b[0m\u001b[1;33m)\u001b[0m\u001b[1;33m]\u001b[0m\u001b[1;33m\u001b[0m\u001b[1;33m\u001b[0m\u001b[0m\n\u001b[1;32m----> 2\u001b[1;33m \u001b[0mtorch\u001b[0m\u001b[1;33m.\u001b[0m\u001b[0mrandint_like\u001b[0m\u001b[1;33m(\u001b[0m\u001b[0mz\u001b[0m\u001b[1;33m[\u001b[0m\u001b[1;36m0\u001b[0m\u001b[1;33m]\u001b[0m\u001b[1;33m)\u001b[0m\u001b[1;33m\u001b[0m\u001b[1;33m\u001b[0m\u001b[0m\n\u001b[0m",
      "\u001b[1;31mTypeError\u001b[0m: randint_like() received an invalid combination of arguments - got (Sequential), but expected one of:\n * (Tensor input, int high, *, torch.memory_format memory_format, torch.dtype dtype, torch.layout layout, torch.device device, bool pin_memory, bool requires_grad)\n * (Tensor input, int low, int high, *, torch.memory_format memory_format, torch.dtype dtype, torch.layout layout, torch.device device, bool pin_memory, bool requires_grad)\n"
     ]
    }
   ],
   "source": [
    "z = [brains[x] for x in np.random.choice(top_25, 2)]\n",
    "torch.randint_like(z[0])"
   ]
  },
  {
   "cell_type": "code",
   "execution_count": null,
   "metadata": {},
   "outputs": [],
   "source": [
    "def evolve(top_25):\n",
    "    new_brains = []\n",
    "    for brain in top_25:\n",
    "        new_brains.append(copy.deepcopy(brains[brain]))\n",
    "        new_brains.append(mutate(brains[brain]))\n",
    "    \n",
    "    for _ in top_25:\n",
    "        tuples = top_25\n",
    "        new_brains.append(reproduce([brains[x] for x in np.random.choice(top_25, 2)]))\n",
    "    brains = new_brains\n",
    "    remaining = pop_size - len(brains)\n",
    "    brains += [generate_individual_brain(input_size, num_hidden_layers, hidden_layers_size, output_size) for _ in range(remaining)]"
   ]
  },
  {
   "cell_type": "code",
   "execution_count": 42,
   "metadata": {},
   "outputs": [],
   "source": [
    "def train_for_n_gen(self):\n",
    "    # num_gen = self.num_gen\n",
    "    for gen in range(num_gen):\n",
    "        max_moves, max_scores, avg_scores = one_gen(board_size, set_seed, gen, window_size=self.input_window_size)\n",
    "        # print(max_scores[np.argsort(max_scores)][::-1][:math.ceil(len(max_scores)/4)])\n",
    "        # top_25 = np.argsort(max_scores)[::-1][:math.ceil(len(max_scores)/4)]\n",
    "        top_25 = np.argsort(avg_scores)[::-1][:math.ceil(len(avg_scores)/4)]\n",
    "        print(f\"**END OF GEN {gen}**\")\n",
    "        print(f'max scores at the end of gen {gen} - {avg_scores}')\n",
    "        print(f'max moves at the end of gen {gen} - {max_moves}')\n",
    "        evolve(top_25)"
   ]
  },
  {
   "cell_type": "code",
   "execution_count": 72,
   "metadata": {},
   "outputs": [],
   "source": [
    "pop_size = 50 # population size\n",
    "num_trials = 20\n",
    "move_limit = 100\n",
    "num_gen = 50\n",
    "\n",
    "mutation_rate = 0.15\n",
    "mutation_change = 0.1\n",
    "input_window_size = 3\n",
    "\n",
    "input_size = (input_window_size * input_window_size) -1 + 6\n",
    "num_hidden_layers = 4\n",
    "hidden_layers_size = [25] *  num_hidden_layers\n",
    "output_size = 4\n",
    "\n",
    "brains = [generate_individual_brain(input_size, num_hidden_layers, hidden_layers_size, output_size) for _ in range(pop_size)]"
   ]
  },
  {
   "cell_type": "code",
   "execution_count": 44,
   "metadata": {},
   "outputs": [],
   "source": [
    "board_size = 10\n",
    "set_seed=True"
   ]
  },
  {
   "cell_type": "code",
   "execution_count": 45,
   "metadata": {},
   "outputs": [],
   "source": [
    "max_moves, max_scores, avg_moves, avg_scores = one_gen(board_size, set_seed, 0, window_size=input_window_size)"
   ]
  },
  {
   "cell_type": "code",
   "execution_count": 56,
   "metadata": {},
   "outputs": [],
   "source": [
    "final_scores = avg_scores + avg_moves/10\n",
    "top_25 = np.argsort(final_scores)[::-1][:math.ceil(len(final_scores)/4)]"
   ]
  },
  {
   "cell_type": "code",
   "execution_count": 63,
   "metadata": {},
   "outputs": [
    {
     "ename": "NameError",
     "evalue": "name 'mutation_rate' is not defined",
     "output_type": "error",
     "traceback": [
      "\u001b[1;31m---------------------------------------------------------------------------\u001b[0m",
      "\u001b[1;31mNameError\u001b[0m                                 Traceback (most recent call last)",
      "\u001b[1;32m<ipython-input-63-d80a6b158291>\u001b[0m in \u001b[0;36m<module>\u001b[1;34m\u001b[0m\n\u001b[0;32m      2\u001b[0m \u001b[1;32mfor\u001b[0m \u001b[0mbrain\u001b[0m \u001b[1;32min\u001b[0m \u001b[0mtop_25\u001b[0m\u001b[1;33m:\u001b[0m\u001b[1;33m\u001b[0m\u001b[1;33m\u001b[0m\u001b[0m\n\u001b[0;32m      3\u001b[0m     \u001b[0mnew_brains\u001b[0m\u001b[1;33m.\u001b[0m\u001b[0mappend\u001b[0m\u001b[1;33m(\u001b[0m\u001b[0mcopy\u001b[0m\u001b[1;33m.\u001b[0m\u001b[0mdeepcopy\u001b[0m\u001b[1;33m(\u001b[0m\u001b[0mbrains\u001b[0m\u001b[1;33m[\u001b[0m\u001b[0mbrain\u001b[0m\u001b[1;33m]\u001b[0m\u001b[1;33m)\u001b[0m\u001b[1;33m)\u001b[0m\u001b[1;33m\u001b[0m\u001b[1;33m\u001b[0m\u001b[0m\n\u001b[1;32m----> 4\u001b[1;33m     \u001b[0mnew_brains\u001b[0m\u001b[1;33m.\u001b[0m\u001b[0mappend\u001b[0m\u001b[1;33m(\u001b[0m\u001b[0mmutate\u001b[0m\u001b[1;33m(\u001b[0m\u001b[0mbrains\u001b[0m\u001b[1;33m[\u001b[0m\u001b[0mbrain\u001b[0m\u001b[1;33m]\u001b[0m\u001b[1;33m)\u001b[0m\u001b[1;33m)\u001b[0m\u001b[1;33m\u001b[0m\u001b[1;33m\u001b[0m\u001b[0m\n\u001b[0m\u001b[0;32m      5\u001b[0m \u001b[0mbrains\u001b[0m \u001b[1;33m=\u001b[0m \u001b[0mnew_brains\u001b[0m\u001b[1;33m\u001b[0m\u001b[1;33m\u001b[0m\u001b[0m\n\u001b[0;32m      6\u001b[0m \u001b[0mremaining\u001b[0m \u001b[1;33m=\u001b[0m \u001b[0mpop_size\u001b[0m \u001b[1;33m-\u001b[0m \u001b[0mlen\u001b[0m\u001b[1;33m(\u001b[0m\u001b[0mbrains\u001b[0m\u001b[1;33m)\u001b[0m\u001b[1;33m\u001b[0m\u001b[1;33m\u001b[0m\u001b[0m\n",
      "\u001b[1;32m<ipython-input-41-c5b571008b77>\u001b[0m in \u001b[0;36mmutate\u001b[1;34m(brain)\u001b[0m\n\u001b[0;32m     13\u001b[0m         \u001b[1;32mif\u001b[0m \u001b[0misinstance\u001b[0m\u001b[1;33m(\u001b[0m\u001b[0mlayer\u001b[0m\u001b[1;33m,\u001b[0m \u001b[0mnn\u001b[0m\u001b[1;33m.\u001b[0m\u001b[0mLinear\u001b[0m\u001b[1;33m)\u001b[0m\u001b[1;33m:\u001b[0m\u001b[1;33m\u001b[0m\u001b[1;33m\u001b[0m\u001b[0m\n\u001b[0;32m     14\u001b[0m             \u001b[1;31m# new_weights = layer.weight + ((torch.rand(layer.weight.shape)<self.mutation_rate).long() * torch.normal(layer.weight.shape) * self.mutation_change)\u001b[0m\u001b[1;33m\u001b[0m\u001b[1;33m\u001b[0m\u001b[1;33m\u001b[0m\u001b[0m\n\u001b[1;32m---> 15\u001b[1;33m             \u001b[0mnew_weights\u001b[0m \u001b[1;33m=\u001b[0m \u001b[0mlayer\u001b[0m\u001b[1;33m.\u001b[0m\u001b[0mweight\u001b[0m \u001b[1;33m+\u001b[0m \u001b[1;33m(\u001b[0m\u001b[1;33m(\u001b[0m\u001b[0mtorch\u001b[0m\u001b[1;33m.\u001b[0m\u001b[0mrand\u001b[0m\u001b[1;33m(\u001b[0m\u001b[0mlayer\u001b[0m\u001b[1;33m.\u001b[0m\u001b[0mweight\u001b[0m\u001b[1;33m.\u001b[0m\u001b[0mshape\u001b[0m\u001b[1;33m)\u001b[0m\u001b[1;33m<\u001b[0m\u001b[0mmutation_rate\u001b[0m\u001b[1;33m)\u001b[0m\u001b[1;33m.\u001b[0m\u001b[0mlong\u001b[0m\u001b[1;33m(\u001b[0m\u001b[1;33m)\u001b[0m \u001b[1;33m*\u001b[0m \u001b[0mtorch\u001b[0m\u001b[1;33m.\u001b[0m\u001b[0mempty\u001b[0m\u001b[1;33m(\u001b[0m\u001b[0mlayer\u001b[0m\u001b[1;33m.\u001b[0m\u001b[0mweight\u001b[0m\u001b[1;33m.\u001b[0m\u001b[0mshape\u001b[0m\u001b[1;33m)\u001b[0m\u001b[1;33m.\u001b[0m\u001b[0mnormal_\u001b[0m\u001b[1;33m(\u001b[0m\u001b[0mmean\u001b[0m\u001b[1;33m=\u001b[0m\u001b[1;36m0\u001b[0m\u001b[1;33m,\u001b[0m\u001b[0mstd\u001b[0m\u001b[1;33m=\u001b[0m\u001b[1;36m1\u001b[0m\u001b[1;33m)\u001b[0m \u001b[1;33m*\u001b[0m \u001b[0mmutation_change\u001b[0m\u001b[1;33m)\u001b[0m\u001b[1;33m\u001b[0m\u001b[1;33m\u001b[0m\u001b[0m\n\u001b[0m\u001b[0;32m     16\u001b[0m             \u001b[0mlayer\u001b[0m\u001b[1;33m.\u001b[0m\u001b[0mweight\u001b[0m \u001b[1;33m=\u001b[0m \u001b[0mnn\u001b[0m\u001b[1;33m.\u001b[0m\u001b[0mParameter\u001b[0m\u001b[1;33m(\u001b[0m\u001b[0mnew_weights\u001b[0m\u001b[1;33m,\u001b[0m \u001b[0mrequires_grad\u001b[0m\u001b[1;33m=\u001b[0m\u001b[1;32mFalse\u001b[0m\u001b[1;33m)\u001b[0m\u001b[1;33m\u001b[0m\u001b[1;33m\u001b[0m\u001b[0m\n\u001b[0;32m     17\u001b[0m     \u001b[1;32mreturn\u001b[0m \u001b[0mbrain\u001b[0m\u001b[1;33m\u001b[0m\u001b[1;33m\u001b[0m\u001b[0m\n",
      "\u001b[1;31mNameError\u001b[0m: name 'mutation_rate' is not defined"
     ]
    }
   ],
   "source": [
    "new_brains = []\n",
    "for brain in top_25:\n",
    "    new_brains.append(copy.deepcopy(brains[brain]))\n",
    "    new_brains.append(copy.deepcopy(brains[brain]))\n",
    "    new_brains.append(mutate(brains[brain]))\n",
    "    new_brains.append(reproduce(brains[brain]))\n",
    "brains = new_brains\n",
    "remaining = pop_size - len(brains)\n",
    "brains += [generate_individual_brain(input_size, num_hidden_layers, hidden_layers_size, output_size) for _ in range(remaining)]"
   ]
  },
  {
   "cell_type": "code",
   "execution_count": 91,
   "metadata": {},
   "outputs": [
    {
     "ename": "TypeError",
     "evalue": "'LayerNorm' object is not subscriptable",
     "output_type": "error",
     "traceback": [
      "\u001b[1;31m---------------------------------------------------------------------------\u001b[0m",
      "\u001b[1;31mTypeError\u001b[0m                                 Traceback (most recent call last)",
      "\u001b[1;32m<ipython-input-91-eaf0fd3b62e7>\u001b[0m in \u001b[0;36m<module>\u001b[1;34m\u001b[0m\n\u001b[1;32m----> 1\u001b[1;33m \u001b[0mmutate\u001b[0m\u001b[1;33m(\u001b[0m\u001b[0mbrains\u001b[0m\u001b[1;33m[\u001b[0m\u001b[0mbrain\u001b[0m\u001b[1;33m]\u001b[0m\u001b[1;33m)\u001b[0m\u001b[1;33m\u001b[0m\u001b[1;33m\u001b[0m\u001b[0m\n\u001b[0m",
      "\u001b[1;32m<ipython-input-90-51d90891ba4c>\u001b[0m in \u001b[0;36mmutate\u001b[1;34m(brain)\u001b[0m\n\u001b[0;32m      1\u001b[0m \u001b[1;32mdef\u001b[0m \u001b[0mmutate\u001b[0m\u001b[1;33m(\u001b[0m\u001b[0mbrain\u001b[0m\u001b[1;33m)\u001b[0m\u001b[1;33m:\u001b[0m\u001b[1;33m\u001b[0m\u001b[1;33m\u001b[0m\u001b[0m\n\u001b[1;32m----> 2\u001b[1;33m     \u001b[0mprint\u001b[0m\u001b[1;33m(\u001b[0m\u001b[0mbrain\u001b[0m\u001b[1;33m[\u001b[0m\u001b[1;36m0\u001b[0m\u001b[1;33m]\u001b[0m\u001b[1;33m[\u001b[0m\u001b[1;36m1\u001b[0m\u001b[1;33m]\u001b[0m\u001b[1;33m.\u001b[0m\u001b[0mweight\u001b[0m\u001b[1;33m)\u001b[0m\u001b[1;33m\u001b[0m\u001b[1;33m\u001b[0m\u001b[0m\n\u001b[0m\u001b[0;32m      3\u001b[0m     \u001b[1;32mfor\u001b[0m \u001b[0mlayer\u001b[0m \u001b[1;32min\u001b[0m \u001b[0mbrain\u001b[0m\u001b[1;33m:\u001b[0m\u001b[1;33m\u001b[0m\u001b[1;33m\u001b[0m\u001b[0m\n\u001b[0;32m      4\u001b[0m         \u001b[1;32mif\u001b[0m \u001b[0misinstance\u001b[0m\u001b[1;33m(\u001b[0m\u001b[0mlayer\u001b[0m\u001b[1;33m,\u001b[0m \u001b[0mnn\u001b[0m\u001b[1;33m.\u001b[0m\u001b[0mLinear\u001b[0m\u001b[1;33m)\u001b[0m\u001b[1;33m:\u001b[0m\u001b[1;33m\u001b[0m\u001b[1;33m\u001b[0m\u001b[0m\n\u001b[0;32m      5\u001b[0m             \u001b[1;31m# print('original')\u001b[0m\u001b[1;33m\u001b[0m\u001b[1;33m\u001b[0m\u001b[1;33m\u001b[0m\u001b[0m\n",
      "\u001b[1;31mTypeError\u001b[0m: 'LayerNorm' object is not subscriptable"
     ]
    }
   ],
   "source": [
    "mutate(brains[brain])"
   ]
  },
  {
   "cell_type": "code",
   "execution_count": 97,
   "metadata": {},
   "outputs": [
    {
     "name": "stdout",
     "output_type": "stream",
     "text": [
      "Parameter containing:\n",
      "tensor([[-1.4797e-01, -1.9372e-01, -1.5614e-01, -1.6087e-01, -1.3738e-01,\n",
      "          1.0097e-01,  2.5722e-01, -1.2398e-01, -2.3551e-01,  1.5597e-01,\n",
      "         -2.6629e-03,  1.1633e-01,  2.0628e-01,  1.9024e-01],\n",
      "        [-2.1496e-01, -4.9593e-02, -3.7448e-02, -2.2561e-02, -3.0399e-01,\n",
      "          4.4416e-03, -8.6513e-02,  3.2931e-01, -1.8060e-01,  1.0163e-01,\n",
      "         -2.5342e-01,  1.5035e-01, -2.1984e-01, -1.1093e-01],\n",
      "        [ 9.1422e-02,  2.4928e-01, -2.4706e-01, -2.2503e-01, -1.1552e-01,\n",
      "          2.2212e-01, -1.6447e-01, -2.1660e-01, -4.9307e-02,  7.8254e-02,\n",
      "          8.7118e-04,  1.5589e-01, -2.2700e-01,  2.6106e-01],\n",
      "        [ 1.8518e-01,  7.6916e-02, -3.1358e-02,  2.9195e-02,  2.1084e-01,\n",
      "         -1.0000e-01,  1.0313e-01,  9.4177e-02,  4.6795e-02,  3.5747e-01,\n",
      "         -1.3783e-01, -9.2377e-02, -1.4495e-01,  1.5124e-01],\n",
      "        [ 1.0844e-01, -2.0042e-01,  8.1764e-02,  2.4534e-01,  8.5766e-02,\n",
      "          1.7025e-01, -9.0083e-03,  1.3834e-01,  2.0383e-01, -6.2968e-02,\n",
      "          2.2256e-01,  1.9517e-01, -1.1706e-01,  9.1514e-02],\n",
      "        [-2.7792e-01,  1.8754e-01, -5.4016e-02, -3.0492e-03, -5.2051e-02,\n",
      "          1.7169e-01, -8.8967e-02, -1.3483e-04,  2.6747e-01,  2.3550e-01,\n",
      "         -1.7987e-02,  7.4229e-02,  8.6571e-02, -3.5075e-02],\n",
      "        [ 2.4817e-01,  1.1450e-01,  2.8326e-02,  2.3115e-01,  1.9372e-01,\n",
      "          6.5578e-02,  2.0489e-01, -2.7871e-01,  6.6138e-02, -6.3897e-02,\n",
      "         -1.8697e-01,  4.9882e-02, -2.0738e-01, -7.8942e-03],\n",
      "        [ 8.4072e-02,  2.3330e-01,  1.1502e-01,  1.4710e-01, -1.9810e-01,\n",
      "         -2.4847e-01, -2.6114e-01, -9.8427e-02, -2.2610e-01, -2.3003e-01,\n",
      "          2.2546e-01, -2.4028e-01,  3.7360e-02, -2.0949e-02],\n",
      "        [ 1.1811e-01,  1.3446e-01, -1.4847e-01, -2.5329e-01,  1.0238e-01,\n",
      "         -2.5521e-01,  3.1362e-02,  7.5322e-02,  2.6037e-01,  6.4580e-02,\n",
      "         -1.6699e-01, -1.6835e-01,  4.0498e-02,  7.0518e-02],\n",
      "        [ 1.8003e-01, -1.4632e-01, -2.5741e-01,  2.8797e-01, -1.9900e-01,\n",
      "          2.4451e-01,  3.0012e-01,  4.8450e-02,  1.8929e-01,  1.7258e-01,\n",
      "         -1.4942e-01,  2.0064e-01,  2.1182e-02,  3.6736e-01],\n",
      "        [ 2.3882e-01, -1.3456e-01, -1.0880e-01,  1.6147e-01,  6.6441e-02,\n",
      "         -1.5755e-01, -2.1253e-01, -3.0100e-01, -2.6015e-03,  3.0867e-02,\n",
      "          1.1655e-02, -1.6342e-01, -2.4386e-01, -1.4378e-02],\n",
      "        [-1.2070e-01, -2.6001e-01, -4.9581e-02, -6.9091e-02, -2.4297e-01,\n",
      "          1.6059e-01,  1.5734e-01, -1.5413e-01, -1.1357e-01, -1.5894e-01,\n",
      "          6.0244e-02,  6.6639e-02,  2.0304e-01, -1.2861e-01],\n",
      "        [ 8.1247e-02, -1.4084e-02, -4.8082e-02,  1.8162e-01,  1.0285e-01,\n",
      "          1.4404e-01,  1.5784e-01, -1.1182e-01, -1.3109e-01,  4.0178e-01,\n",
      "          7.1015e-02, -3.5861e-01,  1.4705e-01, -6.4841e-02],\n",
      "        [-5.7583e-02, -7.2843e-03,  2.5042e-01,  2.4980e-01,  7.9426e-02,\n",
      "          3.3282e-02, -1.5171e-01,  1.7414e-01,  2.0293e-01, -2.2603e-01,\n",
      "          1.5129e-01, -1.7179e-01, -1.1512e-01, -1.7067e-01],\n",
      "        [ 8.9684e-02,  4.7157e-02,  1.9587e-01, -1.7179e-01, -7.5414e-02,\n",
      "          6.8449e-02,  1.0299e-01,  2.6365e-01, -2.5498e-01, -1.2132e-01,\n",
      "         -3.5563e-02, -2.6385e-01,  2.2645e-01, -2.2489e-01],\n",
      "        [-1.4908e-01, -8.2167e-02,  7.6029e-02, -2.5135e-01, -1.2667e-01,\n",
      "         -2.4722e-02,  1.1326e-02,  3.1388e-01, -1.5094e-01, -2.4988e-01,\n",
      "          2.8311e-01,  8.7527e-02, -1.3384e-01, -2.3374e-01],\n",
      "        [-1.0202e-01, -4.1850e-02, -4.7001e-02, -2.0145e-01, -1.4202e-01,\n",
      "          3.4104e-01,  5.4886e-02, -3.8936e-02, -1.8445e-01,  1.2249e-01,\n",
      "          2.5302e-01,  3.3470e-01,  1.8919e-01, -1.9928e-01],\n",
      "        [ 1.2920e-01,  1.0440e-02, -4.5413e-02, -9.4542e-02, -1.4353e-01,\n",
      "          5.0724e-02,  2.5804e-01, -5.6231e-02, -2.8869e-02,  2.0717e-02,\n",
      "         -3.3101e-01,  1.5903e-01,  3.1747e-02, -5.5136e-02],\n",
      "        [-4.7156e-02, -2.0412e-01,  3.1968e-01,  2.0198e-01,  9.1894e-02,\n",
      "          3.1543e-02,  2.1854e-01,  1.0920e-01, -1.7072e-01, -2.9075e-01,\n",
      "         -1.0536e-01,  3.4123e-01, -1.0020e-02,  2.0881e-01],\n",
      "        [-1.6003e-01,  2.4415e-01,  2.2697e-01,  2.6383e-01, -1.4197e-01,\n",
      "          2.5812e-01, -2.0954e-01,  9.6363e-03, -2.7602e-03,  7.7020e-02,\n",
      "         -2.6670e-01,  5.4688e-02, -2.1312e-01, -3.1128e-01],\n",
      "        [ 2.1922e-01,  2.6362e-02,  2.4921e-01,  2.1737e-01, -1.2816e-01,\n",
      "          2.5137e-01,  1.6026e-01,  4.5797e-02, -1.6790e-01,  3.6415e-02,\n",
      "          1.6337e-01,  9.6158e-02, -1.4910e-01, -1.1793e-01],\n",
      "        [-5.6463e-02, -1.7107e-01,  3.1445e-01,  1.6128e-01,  2.0499e-01,\n",
      "          2.4144e-01,  4.0214e-01, -2.8361e-01, -4.7566e-02, -1.5020e-01,\n",
      "          4.0323e-01, -2.1979e-01,  4.3692e-02, -7.4560e-02],\n",
      "        [ 3.7049e-02, -1.9386e-01,  2.2565e-01,  7.1962e-02, -4.8988e-02,\n",
      "         -8.4203e-02,  8.9637e-02, -6.0025e-02,  5.6170e-02,  1.8050e-01,\n",
      "          2.4618e-01, -5.7990e-02,  1.0345e-01, -1.9771e-01],\n",
      "        [ 1.1993e-01, -6.6775e-02, -4.7376e-02, -1.4922e-01, -1.0021e-01,\n",
      "          1.9009e-02, -5.3402e-02, -2.0990e-01, -1.3670e-01,  1.8929e-01,\n",
      "          2.5632e-01,  2.3381e-02,  1.1204e-01,  3.0061e-01],\n",
      "        [ 5.8550e-02,  9.5756e-02,  2.0324e-01, -3.7138e-01,  7.6802e-02,\n",
      "          1.6061e-01,  1.3500e-01, -1.8404e-01,  2.5519e-01,  1.3440e-01,\n",
      "         -8.4805e-02,  1.0525e-01,  3.9759e-02, -2.0342e-02]])\n"
     ]
    }
   ],
   "source": [
    "\n",
    "print(brains[brain][1].weight)"
   ]
  },
  {
   "cell_type": "code",
   "execution_count": 98,
   "metadata": {},
   "outputs": [],
   "source": [
    "for layer in brains[brain]:\n",
    "    if isinstance(layer, nn.Linear):\n",
    "        # print('original')\n",
    "        # print(layer.weight[0])\n",
    "        # print('new')\n",
    "        # new_weights = layer.weight + ((torch.rand(layer.weight.shape)<self.mutation_rate).long() * torch.normal(layer.weight.shape) * self.mutation_change)\n",
    "        new_weights = layer.weight + ((torch.rand(layer.weight.shape)<mutation_rate).long() * torch.empty(layer.weight.shape).normal_(mean=0,std=1) * mutation_change)\n",
    "        layer.weight = nn.Parameter(new_weights, requires_grad=False)\n",
    "        # print(layer.weight[0])"
   ]
  },
  {
   "cell_type": "code",
   "execution_count": 107,
   "metadata": {},
   "outputs": [
    {
     "data": {
      "text/plain": [
       "[1, 2, 3]"
      ]
     },
     "execution_count": 107,
     "metadata": {},
     "output_type": "execute_result"
    }
   ],
   "source": [
    "z = [1,2,3]\n",
    "for a in z:\n",
    "    if a==3:\n",
    "        a+=3\n",
    "z"
   ]
  },
  {
   "cell_type": "code",
   "execution_count": 106,
   "metadata": {},
   "outputs": [
    {
     "data": {
      "text/plain": [
       "3"
      ]
     },
     "execution_count": 106,
     "metadata": {},
     "output_type": "execute_result"
    }
   ],
   "source": [
    "a"
   ]
  },
  {
   "cell_type": "code",
   "execution_count": null,
   "metadata": {},
   "outputs": [],
   "source": []
  }
 ],
 "metadata": {
  "kernelspec": {
   "display_name": "Python 3.7.4 64-bit",
   "language": "python",
   "name": "python3"
  },
  "language_info": {
   "codemirror_mode": {
    "name": "ipython",
    "version": 3
   },
   "file_extension": ".py",
   "mimetype": "text/x-python",
   "name": "python",
   "nbconvert_exporter": "python",
   "pygments_lexer": "ipython3",
   "version": "3.7.4"
  },
  "orig_nbformat": 4,
  "vscode": {
   "interpreter": {
    "hash": "e92b1e64e1a18e37adf6cde0fcba1eef4a91520bfe33ee18938e1ee724c61147"
   }
  }
 },
 "nbformat": 4,
 "nbformat_minor": 2
}
